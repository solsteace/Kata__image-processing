{
 "cells": [
  {
   "cell_type": "markdown",
   "id": "a5cbff23-b2a4-43c2-b40d-9b22b04565ad",
   "metadata": {},
   "source": [
    "# Nomor 3\n",
    "![Soal nomor 3](3.png)"
   ]
  },
  {
   "cell_type": "code",
   "execution_count": null,
   "id": "2ec35e97-2a04-4ad6-8c27-e00b2407bc8c",
   "metadata": {},
   "outputs": [],
   "source": [
    "import numpy as np"
   ]
  },
  {
   "cell_type": "markdown",
   "id": "10d435c4-ae83-4014-900d-631f301e0808",
   "metadata": {},
   "source": [
    "## Poin A"
   ]
  },
  {
   "cell_type": "code",
   "execution_count": null,
   "id": "75c5e45a-49ab-405f-b566-b5a8d7cdaea9",
   "metadata": {},
   "outputs": [],
   "source": [
    "def A():\n",
    "    pass\n",
    "\n",
    "A()"
   ]
  },
  {
   "cell_type": "markdown",
   "id": "aef24fed-b7b8-495b-b309-ba2da9f9a345",
   "metadata": {},
   "source": [
    "## Poin B"
   ]
  },
  {
   "cell_type": "code",
   "execution_count": 1,
   "id": "9f697442-5d6d-4870-aecd-371fa9360d5c",
   "metadata": {},
   "outputs": [
    {
     "ename": "SyntaxError",
     "evalue": "expected ':' (363714024.py, line 1)",
     "output_type": "error",
     "traceback": [
      "\u001b[0;36m  Cell \u001b[0;32mIn[1], line 1\u001b[0;36m\u001b[0m\n\u001b[0;31m    def B()\u001b[0m\n\u001b[0m           ^\u001b[0m\n\u001b[0;31mSyntaxError\u001b[0m\u001b[0;31m:\u001b[0m expected ':'\n"
     ]
    }
   ],
   "source": [
    "def B():\n",
    "    image = np.array([\n",
    "        [176, 94, 201, 219],\n",
    "        [37, 161, 16, 88],\n",
    "        [71, 129, 177, 81],\n",
    "        [41, 198, 107, 19]\n",
    "    ])\n",
    "\n",
    "    result = np.empty((2, 2))\n",
    "    print(result)\n",
    "\n",
    "B()"
   ]
  },
  {
   "cell_type": "markdown",
   "id": "c5301a9b-cb3e-4b86-987a-dbbac069d246",
   "metadata": {},
   "source": [
    "## Poin C"
   ]
  },
  {
   "cell_type": "code",
   "execution_count": null,
   "id": "0bf9e937-f678-4c8e-984b-6c23983b86f0",
   "metadata": {},
   "outputs": [],
   "source": []
  }
 ],
 "metadata": {
  "kernelspec": {
   "display_name": "Python 3 (ipykernel)",
   "language": "python",
   "name": "python3"
  },
  "language_info": {
   "codemirror_mode": {
    "name": "ipython",
    "version": 3
   },
   "file_extension": ".py",
   "mimetype": "text/x-python",
   "name": "python",
   "nbconvert_exporter": "python",
   "pygments_lexer": "ipython3",
   "version": "3.11.6"
  }
 },
 "nbformat": 4,
 "nbformat_minor": 5
}
