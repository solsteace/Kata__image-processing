{
 "cells": [
  {
   "cell_type": "markdown",
   "id": "f7d172f1-c21e-4992-845b-2c0430ba47cf",
   "metadata": {},
   "source": [
    "# Nomor 2\n",
    "![Soal nomor 2](2.png)"
   ]
  },
  {
   "cell_type": "code",
   "execution_count": 15,
   "id": "52442aa9-89f5-44f6-b1c4-f61a93818d70",
   "metadata": {},
   "outputs": [],
   "source": [
    "import numpy as np"
   ]
  },
  {
   "cell_type": "markdown",
   "id": "1e61d656-a297-47eb-878b-2f83de0cd071",
   "metadata": {},
   "source": [
    "## Poin A\n",
    "Operasi ini menambahkan nilai setiap pixel pada satu citra ke citra lainnya"
   ]
  },
  {
   "cell_type": "code",
   "execution_count": 16,
   "id": "6af253dc-d948-4346-9ab2-db5999274513",
   "metadata": {},
   "outputs": [
    {
     "name": "stdout",
     "output_type": "stream",
     "text": [
      "Result:\n",
      " [[125. 255. 255.  73.]\n",
      " [204. 163. 255. 255.]\n",
      " [156. 255. 255. 112.]\n",
      " [255. 255. 198.  86.]]\n"
     ]
    }
   ],
   "source": [
    "def A():\n",
    "    image1 = np.array([\n",
    "        [19, 171, 91, 68],\n",
    "        [123, 99, 74, 195],\n",
    "        [85, 71, 208, 18],\n",
    "        [241, 212, 189, 68]\n",
    "    ])\n",
    "\n",
    "    image2 = np.array([\n",
    "        [106, 97, 190, 5],\n",
    "        [81, 64, 183, 82],\n",
    "        [71, 200, 251, 94],\n",
    "        [181, 76, 9, 18]\n",
    "    ])\n",
    "\n",
    "    result = np.empty((4, 4))\n",
    "    for ydx in range(len(image1)):\n",
    "        for xdx in range(len(image1[ydx])):\n",
    "            res = image1[ydx][xdx] + image2[ydx][xdx]\n",
    "            if(res > 255):\n",
    "                res = 255\n",
    "            result[ydx][xdx] = res\n",
    "    print(f\"Result:\\n {result}\")\n",
    "\n",
    "    \n",
    "A()"
   ]
  },
  {
   "cell_type": "markdown",
   "id": "a4b68dc1-bb57-46fb-aff8-53c66bc80ce5",
   "metadata": {},
   "source": [
    "## Poin B\n",
    "Operasi ini melakukan pengurangan nilai pixel pada suatu citra dengan citra lainnya dengan hasil nilai yang negatif diubah menjadi 0"
   ]
  },
  {
   "cell_type": "code",
   "execution_count": 17,
   "id": "f95747e9-98b9-4c34-a778-ab4420992636",
   "metadata": {},
   "outputs": [
    {
     "name": "stdout",
     "output_type": "stream",
     "text": [
      "Result:\n",
      " [[  0.  74.   0.  63.]\n",
      " [ 42.  35.   0. 113.]\n",
      " [ 14.   0.   0.   0.]\n",
      " [ 60. 136. 180.  50.]]\n"
     ]
    }
   ],
   "source": [
    "def B():\n",
    "    image1 = np.array([\n",
    "        [19, 171, 91, 68],\n",
    "        [123, 99, 74, 195],\n",
    "        [85, 71, 208, 18],\n",
    "        [241, 212, 189, 68]\n",
    "    ])\n",
    "\n",
    "    image2 = np.array([\n",
    "        [106, 97, 190, 5],\n",
    "        [81, 64, 183, 82],\n",
    "        [71, 200, 251, 94],\n",
    "        [181, 76, 9, 18]\n",
    "    ])\n",
    "\n",
    "    result = np.empty((4, 4))\n",
    "    for ydx in range(len(image1)):\n",
    "        for xdx in range(len(image1[ydx])):\n",
    "            res = image1[ydx][xdx] - image2[ydx][xdx]\n",
    "            if(res < 0):\n",
    "                res = 0\n",
    "            result[ydx][xdx] = res\n",
    "    print(f\"Result:\\n {result}\")\n",
    "\n",
    "    \n",
    "B()"
   ]
  },
  {
   "cell_type": "markdown",
   "id": "90a218bb-df32-471b-aca3-aa5275fda302",
   "metadata": {},
   "source": [
    "## Poin C\n",
    "Operasi ini sama seperti operasi difference, hanya saja yang didapatkan adalah selisih nilai pixel pada suatu citra dengan citra lainnya"
   ]
  },
  {
   "cell_type": "code",
   "execution_count": 18,
   "id": "d95ba6fb-e897-4fbe-8229-e227a100843f",
   "metadata": {},
   "outputs": [
    {
     "name": "stdout",
     "output_type": "stream",
     "text": [
      "Result:\n",
      " [[ 87.  74.  99.  63.]\n",
      " [ 42.  35. 109. 113.]\n",
      " [ 14. 129.  43.  76.]\n",
      " [ 60. 136. 180.  50.]]\n"
     ]
    }
   ],
   "source": [
    "def C():\n",
    "    image1 = np.array([\n",
    "        [19, 171, 91, 68],\n",
    "        [123, 99, 74, 195],\n",
    "        [85, 71, 208, 18],\n",
    "        [241, 212, 189, 68]\n",
    "    ])\n",
    "\n",
    "    image2 = np.array([\n",
    "        [106, 97, 190, 5],\n",
    "        [81, 64, 183, 82],\n",
    "        [71, 200, 251, 94],\n",
    "        [181, 76, 9, 18]\n",
    "    ])\n",
    "\n",
    "    result = np.empty((4, 4))\n",
    "    for ydx in range(len(image1)):\n",
    "        for xdx in range(len(image1[ydx])):\n",
    "            res = image1[ydx][xdx] - image2[ydx][xdx]\n",
    "            if(res < 0):\n",
    "                res *= -1\n",
    "            result[ydx][xdx] = res\n",
    "    print(f\"Result:\\n {result}\")\n",
    "\n",
    "    \n",
    "C()"
   ]
  }
 ],
 "metadata": {
  "kernelspec": {
   "display_name": "Python 3 (ipykernel)",
   "language": "python",
   "name": "python3"
  },
  "language_info": {
   "codemirror_mode": {
    "name": "ipython",
    "version": 3
   },
   "file_extension": ".py",
   "mimetype": "text/x-python",
   "name": "python",
   "nbconvert_exporter": "python",
   "pygments_lexer": "ipython3",
   "version": "3.11.6"
  }
 },
 "nbformat": 4,
 "nbformat_minor": 5
}
