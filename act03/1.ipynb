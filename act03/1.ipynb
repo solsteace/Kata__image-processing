{
 "cells": [
  {
   "cell_type": "markdown",
   "id": "1922b78f-4753-4b5c-8719-f7f34c993819",
   "metadata": {},
   "source": [
    "# Nomor 1\n",
    "![Soal nomor 1](1.png)"
   ]
  },
  {
   "cell_type": "markdown",
   "id": "1066c722-aba8-4574-b989-dee8c75b0c10",
   "metadata": {},
   "source": [
    "## Point A\n",
    "Sederhananya, operasi flip merupakan melakukan mirroring pada gambar dengan sumbu x sebagai tumpuan"
   ]
  },
  {
   "cell_type": "code",
   "execution_count": 157,
   "id": "06583dbd-5591-47da-92e7-b8d202bc4079",
   "metadata": {},
   "outputs": [
    {
     "name": "stdout",
     "output_type": "stream",
     "text": [
      "Image:\n",
      " [[176  94 201 219]\n",
      " [ 37 161  16  88]\n",
      " [ 71 129 177  81]\n",
      " [ 41 198 107  19]]\n",
      "Result:\n",
      " [[ 41. 198. 107.  19.]\n",
      " [ 71. 129. 177.  81.]\n",
      " [ 37. 161.  16.  88.]\n",
      " [176.  94. 201. 219.]]\n"
     ]
    }
   ],
   "source": [
    "def A(): # flip = upside down\n",
    "    image = np.array([\n",
    "        [176, 94, 201, 219],\n",
    "        [37, 161, 16, 88],\n",
    "        [71, 129, 177, 81],\n",
    "        [41, 198, 107, 19]\n",
    "    ])\n",
    "\n",
    "    result = np.empty((0, 4))\n",
    "    for row in image[::-1][:]:\n",
    "        result = np.vstack((result, row))\n",
    "        \n",
    "    print(f\"Image:\\n {image}\")\n",
    "    print(f\"Result:\\n {result}\")\n",
    "A()"
   ]
  },
  {
   "cell_type": "markdown",
   "id": "2ce02281-1b87-487f-827e-e087b5734da9",
   "metadata": {},
   "source": [
    "## Point B\n",
    "Sederhananya, operasi flop merupakan melakukan mirroring dengan sumbu y sebagai sebagai tumpuan"
   ]
  },
  {
   "cell_type": "code",
   "execution_count": 158,
   "id": "287a3efd-b597-4f4a-ad1c-a8cad46e81bc",
   "metadata": {},
   "outputs": [
    {
     "name": "stdout",
     "output_type": "stream",
     "text": [
      "Image:\n",
      " [[176  94 201 219]\n",
      " [ 37 161  16  88]\n",
      " [ 71 129 177  81]\n",
      " [ 41 198 107  19]]\n",
      "Result:\n",
      " [[219. 201.  94. 176.]\n",
      " [ 88.  16. 161.  37.]\n",
      " [ 81. 177. 129.  71.]\n",
      " [ 19. 107. 198.  41.]]\n"
     ]
    }
   ],
   "source": [
    "def B():\n",
    "    image = np.array([\n",
    "        [176, 94, 201, 219],\n",
    "        [37, 161, 16, 88],\n",
    "        [71, 129, 177, 81],\n",
    "        [41, 198, 107, 19]\n",
    "    ])\n",
    "\n",
    "    result = np.empty((0, 4))\n",
    "    for row in image[:]:\n",
    "        result = np.vstack((result, np.flip(row)))\n",
    "\n",
    "    print(f\"Image:\\n {image}\")\n",
    "    print(f\"Result:\\n {result}\")\n",
    "    \n",
    "B()"
   ]
  },
  {
   "cell_type": "markdown",
   "id": "dc53d320-c391-40e6-b026-4d1323bb7caf",
   "metadata": {},
   "source": [
    "## Point C\n",
    "Sederhananya, ini adalah gabungan dari operasi flip dan flop"
   ]
  },
  {
   "cell_type": "code",
   "execution_count": 159,
   "id": "684ba4b8-f419-47bd-b2d5-48326419e416",
   "metadata": {},
   "outputs": [
    {
     "name": "stdout",
     "output_type": "stream",
     "text": [
      "Image:\n",
      " [[176  94 201 219]\n",
      " [ 37 161  16  88]\n",
      " [ 71 129 177  81]\n",
      " [ 41 198 107  19]]\n",
      "Result:\n",
      " [[ 19. 107. 198.  41.]\n",
      " [ 81. 177. 129.  71.]\n",
      " [ 88.  16. 161.  37.]\n",
      " [219. 201.  94. 176.]]\n"
     ]
    }
   ],
   "source": [
    "def C():\n",
    "    image = np.array([\n",
    "        [176, 94, 201, 219],\n",
    "        [37, 161, 16, 88],\n",
    "        [71, 129, 177, 81],\n",
    "        [41, 198, 107, 19]\n",
    "    ])\n",
    "\n",
    "    result = np.empty((0, 4))\n",
    "    for row in image[::-1][:]:\n",
    "        result = np.vstack((result, np.flip(row)))\n",
    "\n",
    "    print(f\"Image:\\n {image}\")\n",
    "    print(f\"Result:\\n {result}\")\n",
    "C()"
   ]
  },
  {
   "cell_type": "markdown",
   "id": "9a99eaa9-91cb-4ae1-a1ba-343a27e3215e",
   "metadata": {},
   "source": [
    "## Point D\n",
    "Sederhananya, operasi ini menghasilkan nilai dari suatu pixel seandainya diambil dari ujung interval sebaliknya (Misal 37 menjadi 218 karena kita mulai dari 255, maka nilai yang dihasilkan adalah 255 - 37)"
   ]
  },
  {
   "cell_type": "code",
   "execution_count": 160,
   "id": "97f3dd60-e465-4ce1-969f-211528074e78",
   "metadata": {},
   "outputs": [
    {
     "name": "stdout",
     "output_type": "stream",
     "text": [
      "Image:\n",
      " [[176  94 201 219]\n",
      " [ 37 161  16  88]\n",
      " [ 71 129 177  81]\n",
      " [ 41 198 107  19]]\n",
      "Result:\n",
      " [[ 79 161  54  36]\n",
      " [218  94 239 167]\n",
      " [184 126  78 174]\n",
      " [214  57 148 236]]\n"
     ]
    }
   ],
   "source": [
    "def D():\n",
    "    image = np.array([\n",
    "        [176, 94, 201, 219],\n",
    "        [37, 161, 16, 88],\n",
    "        [71, 129, 177, 81],\n",
    "        [41, 198, 107, 19]\n",
    "    ])\n",
    "    MAX_INTENSITY = 255\n",
    "    \n",
    "    result = (np.copy(image) * -1) + MAX_INTENSITY\n",
    "    print(f\"Image:\\n {image}\")\n",
    "    print(f\"Result:\\n {result}\")\n",
    "    \n",
    "D()"
   ]
  },
  {
   "cell_type": "markdown",
   "id": "fc4705c8-7891-437c-b506-e1b2eae0dec0",
   "metadata": {},
   "source": [
    "## Point E"
   ]
  },
  {
   "cell_type": "code",
   "execution_count": 168,
   "id": "cf5b8e27-cccc-4da5-837c-cc0098747dc0",
   "metadata": {},
   "outputs": [
    {
     "name": "stdout",
     "output_type": "stream",
     "text": [
      "Image:\n",
      " [[176  94 201 219]\n",
      " [ 37 161  16  88]\n",
      " [ 71 129 177  81]\n",
      " [ 41 198 107  19]]\n",
      "Result:\n",
      " [[ 41.  71.  37. 176.]\n",
      " [198. 129. 161.  94.]\n",
      " [107. 177.  16. 201.]\n",
      " [ 19.  81.  88. 219.]]\n"
     ]
    }
   ],
   "source": [
    "def E():\n",
    "    image = np.array([\n",
    "        [176, 94, 201, 219],\n",
    "        [37, 161, 16, 88],\n",
    "        [71, 129, 177, 81],\n",
    "        [41, 198, 107, 19]\n",
    "    ])\n",
    "\n",
    "    result = np.empty((len(image[0]), len(image))) # Rotasi Citra MxN => Citra NxM\n",
    "\n",
    "    for ydx in range(len(image[0])):\n",
    "        ydx += 1 # Ubah ke 1-indexed \n",
    "        for xdx in range(len(image)):\n",
    "            xdx += 1 # Ubah ke 1-indexed\n",
    "\n",
    "            # cos(90deg) == 0 jadi abaikan\n",
    "            yNew = -xdx\n",
    "            xNew = ydx - 1\n",
    "            if yNew < 0: yNew += len(image)\n",
    "            xdx -= 1 # Kembalikan ke 0-indexed\n",
    "    \n",
    "            result[ydx - 1][xdx] = image[yNew][xNew] # Kembalikan ke 0-indexed\n",
    "            \n",
    "    print(f\"Image:\\n {image}\")\n",
    "    print(f\"Result:\\n {result}\")\n",
    "E()"
   ]
  },
  {
   "cell_type": "code",
   "execution_count": null,
   "id": "99cab5b9-693c-4b2a-9764-5c0226ec4089",
   "metadata": {},
   "outputs": [],
   "source": []
  }
 ],
 "metadata": {
  "kernelspec": {
   "display_name": "Python 3 (ipykernel)",
   "language": "python",
   "name": "python3"
  },
  "language_info": {
   "codemirror_mode": {
    "name": "ipython",
    "version": 3
   },
   "file_extension": ".py",
   "mimetype": "text/x-python",
   "name": "python",
   "nbconvert_exporter": "python",
   "pygments_lexer": "ipython3",
   "version": "3.11.6"
  }
 },
 "nbformat": 4,
 "nbformat_minor": 5
}
