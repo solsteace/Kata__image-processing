{
 "cells": [
  {
   "cell_type": "markdown",
   "id": "4f19d375",
   "metadata": {},
   "source": [
    "# The Task\n",
    "![image](image.jpeg)\n",
    "![task](task.jpeg)"
   ]
  },
  {
   "cell_type": "markdown",
   "id": "3d20a038",
   "metadata": {},
   "source": [
    "# Number 1"
   ]
  },
  {
   "cell_type": "code",
   "execution_count": null,
   "id": "38988e05",
   "metadata": {},
   "outputs": [],
   "source": []
  }
 ],
 "metadata": {
  "kernelspec": {
   "display_name": "Python 3 (ipykernel)",
   "language": "python",
   "name": "python3"
  },
  "language_info": {
   "codemirror_mode": {
    "name": "ipython",
    "version": 3
   },
   "file_extension": ".py",
   "mimetype": "text/x-python",
   "name": "python",
   "nbconvert_exporter": "python",
   "pygments_lexer": "ipython3",
   "version": "3.11.2"
  }
 },
 "nbformat": 4,
 "nbformat_minor": 5
}
